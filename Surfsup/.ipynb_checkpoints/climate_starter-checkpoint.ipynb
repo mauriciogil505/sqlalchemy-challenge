{
 "cells": [
  {
   "cell_type": "code",
   "execution_count": 1,
   "metadata": {},
   "outputs": [],
   "source": [
    "%matplotlib inline\n",
    "from matplotlib import style\n",
    "style.use('fivethirtyeight')\n",
    "import matplotlib.pyplot as plt"
   ]
  },
  {
   "cell_type": "code",
   "execution_count": 2,
   "metadata": {},
   "outputs": [],
   "source": [
    "import numpy as np\n",
    "import pandas as pd\n",
    "import datetime as dt"
   ]
  },
  {
   "cell_type": "markdown",
   "metadata": {},
   "source": [
    "# Reflect Tables into SQLAlchemy ORM"
   ]
  },
  {
   "cell_type": "code",
   "execution_count": 3,
   "metadata": {},
   "outputs": [],
   "source": [
    "# Python SQL toolkit and Object Relational Mapper\n",
    "import sqlalchemy\n",
    "from sqlalchemy.ext.automap import automap_base\n",
    "from sqlalchemy.orm import Session\n",
    "from sqlalchemy import create_engine, func"
   ]
  },
  {
   "cell_type": "code",
   "execution_count": 4,
   "metadata": {},
   "outputs": [],
   "source": [
    "# create engine to hawaii.sqlite\n",
    "engine = create_engine(\"sqlite:///Resources/hawaii.sqlite\")"
   ]
  },
  {
   "cell_type": "code",
   "execution_count": 20,
   "metadata": {},
   "outputs": [],
   "source": [
    "# Read the CSV files into DataFrames\n",
    "hawaii_measurements_df = pd.read_csv('/Users/mauriciogil/Desktop/sqlalchemy-challenge/Resources/hawaii_measurements.csv')\n",
    "hawaii_stations_df = pd.read_csv('/Users/mauriciogil/Desktop/sqlalchemy-challenge/Resources/hawaii_stations.csv')"
   ]
  },
  {
   "cell_type": "code",
   "execution_count": 21,
   "metadata": {},
   "outputs": [
    {
     "data": {
      "text/plain": [
       "9"
      ]
     },
     "execution_count": 21,
     "metadata": {},
     "output_type": "execute_result"
    }
   ],
   "source": [
    "from sqlalchemy import create_engine, MetaData, Table, Column, String, Float, Date\n",
    "\n",
    "# Define SQLite database path (using absolute path)\n",
    "db_path = '/Users/mauriciogil/Desktop/sqlalchemy-challenge/Resources/hawaii.sqlite'\n",
    "\n",
    "# Create an engine to connect to the SQLite database\n",
    "engine = create_engine(f\"sqlite:///{db_path}\")\n",
    "\n",
    "# Define metadata\n",
    "metadata = MetaData()\n",
    "\n",
    "\n",
    "# Create all tables in the database\n",
    "metadata.create_all(engine)\n",
    "\n",
    "\n",
    "# Write the DataFrames to the SQLite database\n",
    "hawaii_measurements_df.to_sql('hawaii_measurements', engine, if_exists='replace', index=False)\n",
    "hawaii_stations_df.to_sql('hawaii_stations', engine, if_exists='replace', index=False)\n"
   ]
  },
  {
   "cell_type": "code",
   "execution_count": 22,
   "metadata": {},
   "outputs": [],
   "source": [
    "# Reflect an existing database into a new model\n",
    "from sqlalchemy.ext.automap import automap_base\n",
    "from sqlalchemy import create_engine\n",
    "\n",
    "# Create an engine to connect to the SQLite database\n",
    "engine = create_engine(\"sqlite:///hawaii.sqlite\")\n"
   ]
  },
  {
   "cell_type": "code",
   "execution_count": 16,
   "metadata": {},
   "outputs": [],
   "source": [
    "# View all of the classes that automap found\n",
    "Base = automap_base()\n",
    "Base.prepare(autoload_with=engine)"
   ]
  },
  {
   "cell_type": "code",
   "execution_count": 23,
   "metadata": {},
   "outputs": [],
   "source": [
    "from sqlalchemy import create_engine, MetaData, Table, Column, String, Float, Date\n",
    "\n",
    "# Define SQLite database path\n",
    "db_path = '/Users/mauriciogil/Desktop/sqlalchemy-challenge/Resources/hawaii.sqlite'\n",
    "\n",
    "# Create an engine to connect to the SQLite database\n",
    "engine = create_engine(f\"sqlite:///{db_path}\")\n",
    "\n",
    "# Define metadata\n",
    "metadata = MetaData()\n",
    "\n",
    "# Define your tables\n",
    "measurement_table = Table(\n",
    "    'measurement', metadata,\n",
    "    Column('station', String, primary_key=True),\n",
    "    Column('date', Date, primary_key=True),\n",
    "    Column('prcp', Float),\n",
    "    Column('tobs', Float)\n",
    ")\n",
    "\n",
    "station_table = Table(\n",
    "    'station', metadata,\n",
    "    Column('station', String, primary_key=True),\n",
    "    Column('name', String),\n",
    "    Column('latitude', Float),\n",
    "    Column('longitude', Float),\n",
    "    Column('elevation', Float)\n",
    ")\n",
    "\n",
    "# Create all tables in the database\n",
    "metadata.create_all(engine)\n"
   ]
  },
  {
   "cell_type": "code",
   "execution_count": 14,
   "metadata": {},
   "outputs": [],
   "source": [
    "# Create our session (link) from Python to the DB\n",
    "# Code to Import modules\n",
    "from sqlalchemy import create_engine\n",
    "from sqlalchemy.orm import Session\n",
    "\n",
    "# Determine the absolute path to the SQLite database\n",
    "import os\n",
    "db_path = os.path.abspath('hawaii.sqlite')\n",
    "\n",
    "# Create an engine to connect to the SQLite database\n",
    "engine = create_engine(f\"sqlite:///{db_path}\")\n",
    "\n",
    "# Create a session\n",
    "session = Session(bind=engine)"
   ]
  },
  {
   "cell_type": "code",
   "execution_count": 6,
   "metadata": {},
   "outputs": [
    {
     "name": "stdout",
     "output_type": "stream",
     "text": [
      "Tables in the database: ['measurement', 'station']\n",
      "\n",
      "Columns in table 'measurement':\n",
      "  - station (TEXT)\n",
      "  - date (TEXT)\n",
      "  - prcp (FLOAT)\n",
      "  - tobs (BIGINT)\n",
      "\n",
      "Columns in table 'station':\n",
      "  - station (TEXT)\n",
      "  - name (TEXT)\n",
      "  - latitude (FLOAT)\n",
      "  - longitude (FLOAT)\n",
      "  - elevation (FLOAT)\n"
     ]
    }
   ],
   "source": [
    "# Import necessary modules\n",
    "from sqlalchemy import create_engine, inspect\n",
    "\n",
    "# Determine the absolute path to the SQLite database\n",
    "import os\n",
    "db_path = os.path.abspath('hawaii.sqlite')\n",
    "\n",
    "# Create an engine to connect to the SQLite database\n",
    "engine = create_engine(f\"sqlite:///{db_path}\")\n",
    "\n",
    "# Inspect the tables in the database\n",
    "inspector = inspect(engine)\n",
    "table_names = inspector.get_table_names()\n",
    "print(\"Tables in the database:\", table_names)\n",
    "\n",
    "# Inspect the columns in each table\n",
    "for table_name in table_names:\n",
    "    columns = inspector.get_columns(table_name)\n",
    "    print(f\"\\nColumns in table '{table_name}':\")\n",
    "    for column in columns:\n",
    "        print(f\"  - {column['name']} ({column['type']})\")\n"
   ]
  },
  {
   "cell_type": "markdown",
   "metadata": {},
   "source": [
    "# Exploratory Precipitation Analysis"
   ]
  },
  {
   "cell_type": "code",
   "execution_count": 10,
   "metadata": {},
   "outputs": [
    {
     "name": "stdout",
     "output_type": "stream",
     "text": [
      "The most recent date in the dataset: 2017-08-23\n"
     ]
    }
   ],
   "source": [
    "# Find the most recent date in the data set.\n",
    "# Query for the most recent date in the dataset\n",
    "# Import necessary modules\n",
    "\n",
    "from sqlalchemy import create_engine, MetaData, Table, Column, String, Float, Date, Integer\n",
    "from sqlalchemy.orm import Session, declarative_base\n",
    "from sqlalchemy import func\n",
    "\n",
    "import os\n",
    "\n",
    "# Determine the absolute path to the SQLite database\n",
    "db_path = os.path.abspath('hawaii.sqlite')\n",
    "\n",
    "# Create an engine to connect to the SQLite database\n",
    "engine = create_engine(f\"sqlite:///{db_path}\")\n",
    "\n",
    "# Create a base class\n",
    "Base = declarative_base()\n",
    "\n",
    "# Reflect the tables\n",
    "metadata = MetaData()\n",
    "measurement_table = Table('measurement', metadata, autoload_with=engine)\n",
    "station_table = Table('station', metadata, autoload_with=engine)\n",
    "\n",
    "# Define the Measurement and Station classes\n",
    "class Measurement(Base):\n",
    "    __tablename__ = 'measurement'\n",
    "\n",
    "    id = Column(Integer, primary_key=True, autoincrement=True)\n",
    "    station = Column(String)\n",
    "    date = Column(Date)\n",
    "    prcp = Column(Float)\n",
    "    tobs = Column(Integer)\n",
    "\n",
    "class Station(Base):\n",
    "    __tablename__ = 'station'\n",
    "\n",
    "    id = Column(Integer, primary_key=True, autoincrement=True)\n",
    "    station = Column(String)\n",
    "    name = Column(String)\n",
    "    latitude = Column(Float)\n",
    "    longitude = Column(Float)\n",
    "    elevation = Column(Float)\n",
    "\n",
    "# Create a session\n",
    "session = Session(bind=engine)\n",
    "\n",
    "# Query for the most recent date in the dataset\n",
    "latest_date = session.query(func.max(Measurement.date)).scalar()\n",
    "\n",
    "print(\"The most recent date in the dataset:\", latest_date)\n"
   ]
  },
  {
   "cell_type": "code",
   "execution_count": 21,
   "metadata": {},
   "outputs": [
    {
     "data": {
      "image/png": "[encoded data removed]",
      "text/plain": [
       "<Figure size 1000x600 with 1 Axes>"
      ]
     },
     "metadata": {},
     "output_type": "display_data"
    }
   ],
   "source": [
    "from datetime import datetime, timedelta\n",
    "import pandas as pd\n",
    "import matplotlib.pyplot as plt\n",
    "\n",
    "# Design a query to retrieve the last 12 months of precipitation data\n",
    "# Starting from the most recent data point in the database\n",
    "latest_date = session.query(func.max(Measurement.date)).scalar()\n",
    "one_year_ago = latest_date - timedelta(days=365)\n",
    "\n",
    "# Perform a query to retrieve the data and precipitation scores\n",
    "results = session.query(Measurement.date, Measurement.prcp).\\\n",
    "    filter(Measurement.date >= one_year_ago).all()\n",
    "\n",
    "# Save the query results as a Pandas DataFrame\n",
    "df = pd.DataFrame(results, columns=['Date', 'Precipitation'])\n",
    "\n",
    "# Sort the dataframe by date\n",
    "df['Date'] = pd.to_datetime(df['Date'])  # Convert 'Date' column to datetime format\n",
    "df = df.sort_values('Date')\n",
    "\n",
    "# Use Pandas Plotting with Matplotlib to plot the data\n",
    "plt.figure(figsize=(10, 6))\n",
    "plt.plot(df['Date'], df['Precipitation'], label='Precipitation')\n",
    "plt.title('Precipitation in Hawaii (Last 12 Months)')\n",
    "plt.xlabel('Date')\n",
    "plt.ylabel('Precipitation (inches)')\n",
    "plt.xticks(rotation=45)\n",
    "plt.legend()\n",
    "plt.tight_layout()\n",
    "plt.show()"
   ]
  },
  {
   "cell_type": "code",
   "execution_count": 22,
   "metadata": {},
   "outputs": [
    {
     "name": "stdout",
     "output_type": "stream",
     "text": [
      "Summary Statistics for Precipitation Data:\n",
      "count    2021.000000\n",
      "mean        0.177279\n",
      "std         0.461190\n",
      "min         0.000000\n",
      "25%         0.000000\n",
      "50%         0.020000\n",
      "75%         0.130000\n",
      "max         6.700000\n",
      "Name: Precipitation, dtype: float64\n"
     ]
    }
   ],
   "source": [
    "# Use Pandas to calculate the summary statistics for the precipitation data\n",
    "summary_stats = df['Precipitation'].describe()\n",
    "print(\"Summary Statistics for Precipitation Data:\")\n",
    "print(summary_stats)\n"
   ]
  },
  {
   "cell_type": "markdown",
   "metadata": {},
   "source": [
    "# Exploratory Station Analysis"
   ]
  },
  {
   "cell_type": "code",
   "execution_count": 23,
   "metadata": {},
   "outputs": [
    {
     "name": "stdout",
     "output_type": "stream",
     "text": [
      "Total number of stations in the dataset: 9\n"
     ]
    }
   ],
   "source": [
    "# Design a query to calculate the total number of stations in the dataset\n",
    "num_stations = session.query(func.count(Station.station)).scalar()\n",
    "\n",
    "print(f'Total number of stations in the dataset: {num_stations}')\n"
   ]
  },
  {
   "cell_type": "code",
   "execution_count": 24,
   "metadata": {},
   "outputs": [
    {
     "name": "stdout",
     "output_type": "stream",
     "text": [
      "Most active stations:\n",
      "Station ID: USC00519281, Activity Count: 2772\n",
      "Station ID: USC00519397, Activity Count: 2724\n",
      "Station ID: USC00513117, Activity Count: 2709\n",
      "Station ID: USC00519523, Activity Count: 2669\n",
      "Station ID: USC00516128, Activity Count: 2612\n",
      "Station ID: USC00514830, Activity Count: 2202\n",
      "Station ID: USC00511918, Activity Count: 1979\n",
      "Station ID: USC00517948, Activity Count: 1372\n",
      "Station ID: USC00518838, Activity Count: 511\n"
     ]
    }
   ],
   "source": [
    "# Design a query to find the most active stations (i.e. which stations have the most rows?)\n",
    "# List the stations and their counts in descending order.\n",
    "from sqlalchemy import func\n",
    "\n",
    "# This code will design a query to find the most active stations\n",
    "station_activity = session.query(Measurement.station, func.count(Measurement.station)) \\\n",
    "                          .group_by(Measurement.station) \\\n",
    "                          .order_by(func.count(Measurement.station).desc()) \\\n",
    "                          .all()\n",
    "\n",
    "# This code is to print the stations and their activity counts in descending order\n",
    "print(\"Most active stations:\")\n",
    "for station, count in station_activity:\n",
    "    print(f\"Station ID: {station}, Activity Count: {count}\")\n"
   ]
  },
  {
   "cell_type": "code",
   "execution_count": 25,
   "metadata": {},
   "outputs": [
    {
     "name": "stdout",
     "output_type": "stream",
     "text": [
      "For station ID USC00519281:\n",
      "Lowest Temperature: 54 F\n",
      "Highest Temperature: 85 F\n",
      "Average Temperature: 71.66 F\n"
     ]
    }
   ],
   "source": [
    "# Using the most active station id from the previous query, calculate the lowest, highest, and average temperature.\n",
    "\n",
    "# Retrieve the most active station ID from the previous query\n",
    "most_active_station_id = station_activity[0][0]  # Assuming station_activity is from the previous query\n",
    "\n",
    "# Design a query to calculate the lowest, highest, and average temperature for the most active station\n",
    "temperature_stats = session.query(func.min(Measurement.tobs), func.max(Measurement.tobs), func.avg(Measurement.tobs)) \\\n",
    "                           .filter(Measurement.station == most_active_station_id) \\\n",
    "                           .all()\n",
    "\n",
    "# Extract the results\n",
    "if temperature_stats:\n",
    "    min_temp, max_temp, avg_temp = temperature_stats[0]\n",
    "    print(f\"For station ID {most_active_station_id}:\")\n",
    "    print(f\"Lowest Temperature: {min_temp} F\")\n",
    "    print(f\"Highest Temperature: {max_temp} F\")\n",
    "    print(f\"Average Temperature: {avg_temp:.2f} F\")\n",
    "else:\n",
    "    print(f\"No temperature data found for station ID {most_active_station_id}\")\n"
   ]
  },
  {
   "cell_type": "code",
   "execution_count": 26,
   "metadata": {},
   "outputs": [
    {
     "data": {
      "image/png": "[encoded data removed]",
      "text/plain": [
       "<Figure size 1000x600 with 1 Axes>"
      ]
     },
     "metadata": {},
     "output_type": "display_data"
    }
   ],
   "source": [
    "# Using the most active station id\n",
    "# Query the last 12 months of temperature observation data for this station and plot the results as a histogram\n",
    "import matplotlib.pyplot as plt\n",
    "from sqlalchemy import func\n",
    "\n",
    "# Assuming you have already identified `most_active_station_id` from the previous query\n",
    "\n",
    "# Design a query to retrieve the last 12 months of temperature data for the most active station\n",
    "temperature_data = session.query(Measurement.date, Measurement.tobs) \\\n",
    "                         .filter(Measurement.station == most_active_station_id) \\\n",
    "                         .filter(Measurement.date >= one_year_ago) \\\n",
    "                         .all()\n",
    "\n",
    "# Load the query results into a Pandas DataFrame\n",
    "temperature_df = pd.DataFrame(temperature_data, columns=['date', 'temperature'])\n",
    "\n",
    "# Convert the date column to datetime format\n",
    "temperature_df['date'] = pd.to_datetime(temperature_df['date'])\n",
    "\n",
    "# Plot the results as a histogram\n",
    "plt.figure(figsize=(10, 6))\n",
    "plt.hist(temperature_df['temperature'], bins=12, edgecolor='black')\n",
    "plt.xlabel('Temperature (F)')\n",
    "plt.ylabel('Frequency')\n",
    "plt.title(f'Temperature Observations for Station {most_active_station_id} (last 12 months)')\n",
    "plt.grid(True)\n",
    "plt.tight_layout()\n",
    "plt.show()"
   ]
  },
  {
   "cell_type": "markdown",
   "metadata": {},
   "source": [
    "# Close Session"
   ]
  },
  {
   "cell_type": "code",
   "execution_count": 29,
   "metadata": {},
   "outputs": [],
   "source": [
    "# Close Session\n",
    "session.close()"
   ]
  },
  {
   "cell_type": "code",
   "execution_count": null,
   "metadata": {},
   "outputs": [],
   "source": []
  }
 ],
 "metadata": {
  "anaconda-cloud": {},
  "kernel_info": {
   "name": "python3"
  },
  "kernelspec": {
   "display_name": "Python 3 (ipykernel)",
   "language": "python",
   "name": "python3"
  },
  "language_info": {
   "codemirror_mode": {
    "name": "ipython",
    "version": 3
   },
   "file_extension": ".py",
   "mimetype": "text/x-python",
   "name": "python",
   "nbconvert_exporter": "python",
   "pygments_lexer": "ipython3",
   "version": "3.11.7"
  },
  "nteract": {
   "version": "0.12.3"
  },
  "varInspector": {
   "cols": {
    "lenName": 16,
    "lenType": 16,
    "lenVar": 40
   },
   "kernels_config": {
    "python": {
     "delete_cmd_postfix": "",
     "delete_cmd_prefix": "del ",
     "library": "var_list.py",
     "varRefreshCmd": "print(var_dic_list())"
    },
    "r": {
     "delete_cmd_postfix": ") ",
     "delete_cmd_prefix": "rm(",
     "library": "var_list.r",
     "varRefreshCmd": "cat(var_dic_list()) "
    }
   },
   "types_to_exclude": [
    "module",
    "function",
    "builtin_function_or_method",
    "instance",
    "_Feature"
   ],
   "window_display": false
  }
 },
 "nbformat": 4,
 "nbformat_minor": 4
}
